{
 "cells": [
  {
   "cell_type": "markdown",
   "metadata": {},
   "source": [
    "Definición de la Clase TiendaOnline\n",
    "\n",
    "Aquí creo la clase con los atributos inventario y ventas_totales. También defino los métodos solicitados."
   ]
  },
  {
   "cell_type": "code",
   "execution_count": 1,
   "metadata": {},
   "outputs": [],
   "source": [
    "class TiendaOnline:\n",
    "    def __init__(self):\n",
    "        # Inicializamos el inventario como una lista vacía\n",
    "        self.inventario = []\n",
    "        # Inicializamos las ventas totales como 0\n",
    "        self.ventas_totales = 0.0\n",
    "\n",
    "    def agregar_producto(self, nombre, precio, cantidad):\n",
    "        #Agrega un producto al inventario o actualiza su cantidad si ya existe.\n",
    "        for producto in self.inventario:\n",
    "            if producto['nombre'] == nombre:\n",
    "                # Si el producto ya existe, actualizamos su cantidad\n",
    "                producto['cantidad'] += cantidad\n",
    "                return\n",
    "        # Si el producto no existe, lo agregamos como un nuevo diccionario\n",
    "        self.inventario.append({'nombre': nombre, 'precio': precio, 'cantidad': cantidad})\n",
    "\n",
    "    def ver_inventario(self):\n",
    "        #Muestra el inventario con todos los productos y sus detalles.\n",
    "        for producto in self.inventario:\n",
    "            print(f\"Nombre: {producto['nombre']}, Precio: ${producto['precio']}, Cantidad: {producto['cantidad']}\")\n",
    "\n",
    "    def buscar_producto(self, nombre):\n",
    "        #Busca un producto en el inventario por su nombre y muestra sus detalles.\n",
    "        for producto in self.inventario:\n",
    "            if producto['nombre'] == nombre:\n",
    "                print(f\"Nombre: {producto['nombre']}, Precio: ${producto['precio']}, Cantidad: {producto['cantidad']}\")\n",
    "                return\n",
    "        print(\"El producto no se encuentra en el inventario.\")\n",
    "\n",
    "    def actualizar_stock(self, nombre, cantidad):\n",
    "        #Actualiza la cantidad (stock) de un producto en el inventario.\n",
    "        for producto in self.inventario:\n",
    "            if producto['nombre'] == nombre:\n",
    "                producto['cantidad'] += cantidad\n",
    "                print(f\"Stock actualizado. Nueva cantidad de {nombre}: {producto['cantidad']}\")\n",
    "                return\n",
    "        print(\"El producto no está en el inventario.\")\n",
    "\n",
    "    def eliminar_producto(self, nombre):\n",
    "        #Elimina un producto del inventario por su nombre.\n",
    "        for i, producto in enumerate(self.inventario):\n",
    "            if producto['nombre'] == nombre:\n",
    "                del self.inventario[i]\n",
    "                print(f\"Producto '{nombre}' eliminado del inventario.\")\n",
    "                return\n",
    "        print(\"El producto no está en el inventario.\")\n",
    "\n",
    "    def calcular_valor_inventario(self):\n",
    "        #Calcula el valor total del inventario.\n",
    "        valor_total = 0\n",
    "        for producto in self.inventario:\n",
    "            valor_total += producto['precio'] * producto['cantidad']\n",
    "        print(f\"El valor total del inventario es: ${valor_total}\")"
   ]
  },
  {
   "cell_type": "markdown",
   "metadata": {},
   "source": [
    "Crear una Instancia de TiendaOnline\n",
    "\n",
    "Creo un objeto (instancia) de la clase TiendaOnline."
   ]
  },
  {
   "cell_type": "code",
   "execution_count": 2,
   "metadata": {},
   "outputs": [],
   "source": [
    "tienda = TiendaOnline()"
   ]
  },
  {
   "cell_type": "markdown",
   "metadata": {},
   "source": [
    "Agregar Productos al Inventario\n",
    "\n",
    "Agrego productos utilizando el método agregar_producto."
   ]
  },
  {
   "cell_type": "code",
   "execution_count": 3,
   "metadata": {},
   "outputs": [
    {
     "name": "stdout",
     "output_type": "stream",
     "text": [
      "Nombre: Camisa, Precio: $20, Cantidad: 40\n",
      "Nombre: Pantalón, Precio: $30, Cantidad: 30\n",
      "Nombre: Zapatos, Precio: $50, Cantidad: 20\n"
     ]
    }
   ],
   "source": [
    "# Agregar productos al inventario\n",
    "tienda.agregar_producto('Camisa', 20, 40)\n",
    "tienda.agregar_producto('Pantalón', 30, 30)\n",
    "tienda.agregar_producto('Zapatos', 50, 20)\n",
    "\n",
    "# Ver el inventario después de agregar productos\n",
    "tienda.ver_inventario()"
   ]
  },
  {
   "cell_type": "markdown",
   "metadata": {},
   "source": [
    "Buscar un Producto\n",
    "\n",
    "Voy a buscar un producto específico usando buscar_producto."
   ]
  },
  {
   "cell_type": "code",
   "execution_count": 4,
   "metadata": {},
   "outputs": [
    {
     "name": "stdout",
     "output_type": "stream",
     "text": [
      "Nombre: Camisa, Precio: $20, Cantidad: 40\n"
     ]
    }
   ],
   "source": [
    "tienda.buscar_producto('Camisa')"
   ]
  },
  {
   "cell_type": "markdown",
   "metadata": {},
   "source": [
    "Actualizar Stock\n",
    "\n",
    "Actualizo la cantidad de un producto utilizando actualizar_stock."
   ]
  },
  {
   "cell_type": "code",
   "execution_count": 5,
   "metadata": {},
   "outputs": [
    {
     "name": "stdout",
     "output_type": "stream",
     "text": [
      "Stock actualizado. Nueva cantidad de Camisa: 50\n",
      "Nombre: Camisa, Precio: $20, Cantidad: 50\n",
      "Nombre: Pantalón, Precio: $30, Cantidad: 30\n",
      "Nombre: Zapatos, Precio: $50, Cantidad: 20\n"
     ]
    }
   ],
   "source": [
    "# Actualizar el stock de un producto\n",
    "tienda.actualizar_stock('Camisa', 10)  # Añadir 10 camisas más\n",
    "\n",
    "# Ver el inventario actualizado\n",
    "tienda.ver_inventario()"
   ]
  },
  {
   "cell_type": "markdown",
   "metadata": {},
   "source": [
    "Eliminar un Producto\n",
    "\n",
    "Elimino un producto del inventario usando eliminar_producto."
   ]
  },
  {
   "cell_type": "code",
   "execution_count": 6,
   "metadata": {},
   "outputs": [
    {
     "name": "stdout",
     "output_type": "stream",
     "text": [
      "Producto 'Pantalón' eliminado del inventario.\n",
      "Nombre: Camisa, Precio: $20, Cantidad: 50\n",
      "Nombre: Zapatos, Precio: $50, Cantidad: 20\n"
     ]
    }
   ],
   "source": [
    "# Eliminar un producto del inventario\n",
    "tienda.eliminar_producto('Pantalón')\n",
    "\n",
    "# Ver el inventario después de eliminar el producto\n",
    "tienda.ver_inventario()"
   ]
  },
  {
   "cell_type": "markdown",
   "metadata": {},
   "source": [
    "Calcular el Valor Total del Inventario\n",
    "\n",
    "Calcúlo el valor total del inventario utilizando calcular_valor_inventario."
   ]
  },
  {
   "cell_type": "code",
   "execution_count": null,
   "metadata": {},
   "outputs": [],
   "source": []
  },
  {
   "cell_type": "code",
   "execution_count": 7,
   "metadata": {},
   "outputs": [
    {
     "name": "stdout",
     "output_type": "stream",
     "text": [
      "El valor total del inventario es: $2000\n"
     ]
    }
   ],
   "source": [
    "tienda.calcular_valor_inventario()"
   ]
  }
 ],
 "metadata": {
  "kernelspec": {
   "display_name": "base",
   "language": "python",
   "name": "python3"
  },
  "language_info": {
   "codemirror_mode": {
    "name": "ipython",
    "version": 3
   },
   "file_extension": ".py",
   "mimetype": "text/x-python",
   "name": "python",
   "nbconvert_exporter": "python",
   "pygments_lexer": "ipython3",
   "version": "3.12.7"
  }
 },
 "nbformat": 4,
 "nbformat_minor": 2
}
